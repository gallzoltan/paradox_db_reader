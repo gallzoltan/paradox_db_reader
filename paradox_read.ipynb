{
 "cells": [
  {
   "cell_type": "code",
   "execution_count": 2,
   "metadata": {},
   "outputs": [],
   "source": [
    "from pypxlib import Table\n",
    "import pandas as pd"
   ]
  },
  {
   "cell_type": "code",
   "execution_count": 21,
   "metadata": {},
   "outputs": [
    {
     "name": "stdout",
     "output_type": "stream",
     "text": [
      "Könyv: 2551, Író: 1662, Szerző: 2751, Kiadó: 438, Téma: 25\n"
     ]
    }
   ],
   "source": [
    "tbl_konyv = Table(\"./KDB/Konyv.DB\")\n",
    "tbl_iro = Table(\"./KDB/Iro.DB\")\n",
    "tbl_kiado = Table(\"./KDB/Kiado.DB\")\n",
    "tbl_szerzo = Table(\"./KDB/Szerzo.DB\")\n",
    "tbl_tema = Table(\"./KDB/Tema.DB\")\n",
    "\n",
    "print(f\"Könyv: {len(tbl_konyv)}, Író: {len(tbl_iro)}, Szerző: {len(tbl_szerzo)}, Kiadó: {len(tbl_kiado)}, Téma: {len(tbl_tema)}\")"
   ]
  },
  {
   "cell_type": "markdown",
   "metadata": {},
   "source": [
    "### Könyv tábla"
   ]
  },
  {
   "cell_type": "code",
   "execution_count": null,
   "metadata": {},
   "outputs": [],
   "source": [
    "tbl_konyv.fields"
   ]
  },
  {
   "cell_type": "code",
   "execution_count": null,
   "metadata": {},
   "outputs": [],
   "source": [
    "jegyzet = tbl_konyv[17]['Jegyzet']\n",
    "jegyzet = jegyzet.decode('cp852')\n",
    "print(jegyzet)\n"
   ]
  },
  {
   "cell_type": "code",
   "execution_count": 9,
   "metadata": {},
   "outputs": [],
   "source": [
    "data = []\n",
    "for row in tbl_konyv:\n",
    "  book_dict = {\n",
    "    'KonyvAz': row['KonyvAz'],\n",
    "    'Cim': row['Cim'],\n",
    "    'KiadoAz': row['KiadoAz'],\n",
    "    'TemaAz': row['TemaAz'],\n",
    "    'KiDatum': row['KiDatum'],\n",
    "    'PldSzam': row['PldSzam'],\n",
    "    'Jegyzet': row['Jegyzet'].decode('cp852') if row['Jegyzet'] is not None else None\n",
    "  }\n",
    "  data.append(book_dict)\n",
    "  data\n"
   ]
  },
  {
   "cell_type": "code",
   "execution_count": 11,
   "metadata": {},
   "outputs": [],
   "source": [
    "df = pd.DataFrame(data)\n",
    "df.to_excel('output.xlsx', index=False, engine='openpyxl')"
   ]
  },
  {
   "cell_type": "markdown",
   "metadata": {},
   "source": [
    "### Iró tábla"
   ]
  },
  {
   "cell_type": "code",
   "execution_count": 12,
   "metadata": {},
   "outputs": [
    {
     "data": {
      "text/plain": [
       "OrderedDict([('IroAz', <pypxlib.LongField at 0x21c737a2750>),\n",
       "             ('Nev', <pypxlib.AlphaField at 0x21c75641950>),\n",
       "             ('Jegyzet', <pypxlib.BytesField at 0x21c75641e90>)])"
      ]
     },
     "execution_count": 12,
     "metadata": {},
     "output_type": "execute_result"
    }
   ],
   "source": [
    "tbl_iro.fields"
   ]
  },
  {
   "cell_type": "code",
   "execution_count": null,
   "metadata": {},
   "outputs": [],
   "source": [
    "data = []\n",
    "for row in tbl_iro:\n",
    "  book_dict = {\n",
    "    'IroAz': row['IroAz'],\n",
    "    'Nev': row['Nev'],\n",
    "    'Jegyzet': row['Jegyzet'].decode('cp852') if row['Jegyzet'] is not None else None\n",
    "  }\n",
    "  data.append(book_dict)\n",
    "data"
   ]
  },
  {
   "cell_type": "code",
   "execution_count": 15,
   "metadata": {},
   "outputs": [],
   "source": [
    "df = pd.DataFrame(data)\n",
    "df.to_excel('output.xlsx', index=False, engine='openpyxl')"
   ]
  },
  {
   "cell_type": "markdown",
   "metadata": {},
   "source": [
    "### Szerző kapcsoló tábla"
   ]
  },
  {
   "cell_type": "code",
   "execution_count": 22,
   "metadata": {},
   "outputs": [
    {
     "data": {
      "text/plain": [
       "OrderedDict([('KonyvAz', <pypxlib.LongField at 0x21c75558590>),\n",
       "             ('IroAz', <pypxlib.LongField at 0x21c75138dd0>)])"
      ]
     },
     "execution_count": 22,
     "metadata": {},
     "output_type": "execute_result"
    }
   ],
   "source": [
    "tbl_szerzo.fields"
   ]
  },
  {
   "cell_type": "code",
   "execution_count": 25,
   "metadata": {},
   "outputs": [],
   "source": [
    "data = []\n",
    "for row in tbl_szerzo:\n",
    "  book_dict = {\n",
    "    'KonyvAz': row['KonyvAz'],\n",
    "    'IroAz': row['IroAz']\n",
    "  }\n",
    "  data.append(book_dict)\n",
    "df = pd.DataFrame(data)"
   ]
  },
  {
   "cell_type": "code",
   "execution_count": 27,
   "metadata": {},
   "outputs": [],
   "source": [
    "df.to_excel('output.xlsx', index=False, engine='openpyxl')"
   ]
  },
  {
   "cell_type": "markdown",
   "metadata": {},
   "source": [
    "### Kiadó tábla"
   ]
  },
  {
   "cell_type": "code",
   "execution_count": 28,
   "metadata": {},
   "outputs": [
    {
     "data": {
      "text/plain": [
       "OrderedDict([('KiadoAz', <pypxlib.LongField at 0x21c75203410>),\n",
       "             ('Kiado', <pypxlib.AlphaField at 0x21c750e5390>)])"
      ]
     },
     "execution_count": 28,
     "metadata": {},
     "output_type": "execute_result"
    }
   ],
   "source": [
    "tbl_kiado.fields"
   ]
  },
  {
   "cell_type": "code",
   "execution_count": null,
   "metadata": {},
   "outputs": [],
   "source": [
    "data = []\n",
    "for row in tbl_kiado:\n",
    "  book_dict = {\n",
    "    'KiadoAz': row['KiadoAz'],\n",
    "    'Kiado': row['Kiado']\n",
    "  }\n",
    "  data.append(book_dict)\n",
    "df = pd.DataFrame(data)\n",
    "df"
   ]
  },
  {
   "cell_type": "code",
   "execution_count": 30,
   "metadata": {},
   "outputs": [],
   "source": [
    "df.to_excel('output.xlsx', index=False, engine='openpyxl')"
   ]
  },
  {
   "cell_type": "markdown",
   "metadata": {},
   "source": [
    "### Téma tábla"
   ]
  },
  {
   "cell_type": "code",
   "execution_count": 31,
   "metadata": {},
   "outputs": [
    {
     "data": {
      "text/plain": [
       "OrderedDict([('TemaAz', <pypxlib.LongField at 0x21c754d5350>),\n",
       "             ('Tema', <pypxlib.AlphaField at 0x21c753fd210>)])"
      ]
     },
     "execution_count": 31,
     "metadata": {},
     "output_type": "execute_result"
    }
   ],
   "source": [
    "tbl_tema.fields"
   ]
  },
  {
   "cell_type": "code",
   "execution_count": null,
   "metadata": {},
   "outputs": [],
   "source": [
    "data = []\n",
    "for row in tbl_tema:\n",
    "  book_dict = {\n",
    "    'TemaAz': row['TemaAz'],\n",
    "    'Tema': row['Tema']\n",
    "  }\n",
    "  data.append(book_dict)\n",
    "df = pd.DataFrame(data)\n",
    "df"
   ]
  },
  {
   "cell_type": "code",
   "execution_count": 34,
   "metadata": {},
   "outputs": [],
   "source": [
    "df.to_excel('output.xlsx', index=False, engine='openpyxl')"
   ]
  }
 ],
 "metadata": {
  "kernelspec": {
   "display_name": ".venv",
   "language": "python",
   "name": "python3"
  },
  "language_info": {
   "codemirror_mode": {
    "name": "ipython",
    "version": 3
   },
   "file_extension": ".py",
   "mimetype": "text/x-python",
   "name": "python",
   "nbconvert_exporter": "python",
   "pygments_lexer": "ipython3",
   "version": "3.11.0"
  }
 },
 "nbformat": 4,
 "nbformat_minor": 2
}
